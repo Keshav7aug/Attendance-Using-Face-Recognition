{
 "cells": [
  {
   "cell_type": "code",
   "execution_count": 1,
   "metadata": {},
   "outputs": [],
   "source": [
    "import json"
   ]
  },
  {
   "cell_type": "code",
   "execution_count": 17,
   "metadata": {},
   "outputs": [],
   "source": [
    "d={}\n",
    "d['hello'] = 4\n",
    "d['hi'] = 6\n",
    "d['li'] = 9\n",
    "with open('mydata.json', 'w') as f:\n",
    "    json.dump(d, f)"
   ]
  },
  {
   "cell_type": "code",
   "execution_count": null,
   "metadata": {},
   "outputs": [],
   "source": []
  },
  {
   "cell_type": "code",
   "execution_count": 18,
   "metadata": {},
   "outputs": [],
   "source": [
    "f = open('mydata.json')\n",
    "nD=json.load(f)\n",
    "f.close()\n",
    "nD['likj'] = 7\n",
    "nD['lop'] = 9\n",
    "nD['poik'] = 10\n",
    "with open('mydata.json', 'w') as f:\n",
    "    json.dump(nD, f)"
   ]
  },
  {
   "cell_type": "code",
   "execution_count": 19,
   "metadata": {},
   "outputs": [
    {
     "name": "stdout",
     "output_type": "stream",
     "text": [
      "{'hello': 4, 'hi': 6, 'li': 9, 'likj': 7, 'lop': 9, 'poik': 10}\n"
     ]
    }
   ],
   "source": [
    "f = open('mydata.json')\n",
    "team = json.load(f)\n",
    "print(team)"
   ]
  },
  {
   "cell_type": "code",
   "execution_count": 16,
   "metadata": {},
   "outputs": [
    {
     "name": "stdout",
     "output_type": "stream",
     "text": [
      "{'hello': 4, 'hi': 6, 'li': 9, 'likj': 7, 'lop': 9, 'poik': 10}\n"
     ]
    }
   ],
   "source": [
    "print(nD)"
   ]
  },
  {
   "cell_type": "code",
   "execution_count": null,
   "metadata": {},
   "outputs": [],
   "source": []
  }
 ],
 "metadata": {
  "kernelspec": {
   "display_name": "Python 3",
   "language": "python",
   "name": "python3"
  },
  "language_info": {
   "codemirror_mode": {
    "name": "ipython",
    "version": 3
   },
   "file_extension": ".py",
   "mimetype": "text/x-python",
   "name": "python",
   "nbconvert_exporter": "python",
   "pygments_lexer": "ipython3",
   "version": "3.7.3"
  }
 },
 "nbformat": 4,
 "nbformat_minor": 2
}
