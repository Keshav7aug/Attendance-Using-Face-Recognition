{
 "cells": [
  {
   "cell_type": "code",
   "execution_count": 3,
   "metadata": {},
   "outputs": [],
   "source": [
    "import cv2\n",
    "import numpy as np"
   ]
  },
  {
   "cell_type": "code",
   "execution_count": 9,
   "metadata": {},
   "outputs": [],
   "source": [
    "cap  = cv2.VideoCapture(0)\n",
    "def nothing(x):\n",
    "    pass\n",
    "cv2.namedWindow(\"TrackBars\")\n",
    "cv2.createTrackbar(\"L-H\",\"TrackBars\",0,180,nothing)\n",
    "cv2.createTrackbar(\"L-S\",\"TrackBars\",123,255,nothing)\n",
    "cv2.createTrackbar(\"L-V\",\"TrackBars\",202,255,nothing)\n",
    "cv2.createTrackbar(\"U-H\",\"TrackBars\",180,180,nothing)\n",
    "cv2.createTrackbar(\"U-S\",\"TrackBars\",255,255,nothing)\n",
    "cv2.createTrackbar(\"U-V\",\"TrackBars\",255,255,nothing)\n",
    "font = cv2.FONT_HERSHEY_COMPLEX\n",
    "while True:\n",
    "    (_,img) = cap.read()\n",
    "    hsv = cv2.cvtColor(img,cv2.COLOR_BGR2HSV)\n",
    "    l_h = cv2.getTrackbarPos(\"L-H\",\"TrackBars\")\n",
    "    l_s = cv2.getTrackbarPos(\"L-S\",\"TrackBars\")\n",
    "    l_v = cv2.getTrackbarPos(\"L-V\",\"TrackBars\")\n",
    "    u_h = cv2.getTrackbarPos(\"U-H\",\"TrackBars\")\n",
    "    u_s = cv2.getTrackbarPos(\"U-S\",\"TrackBars\")\n",
    "    u_v = cv2.getTrackbarPos(\"U-V\",\"TrackBars\")\n",
    "    lower_red = np.array([l_h,l_s,l_v])\n",
    "    upper_red = np.array([u_h,u_s,u_v])\n",
    "#     mask = cv2.inRange(hsv,lower_red,upper_red)\n",
    "#     kernel = np.ones((5,5),np.uint8)\n",
    "#     mask = cv2.erode(mask,kernel)\n",
    "#     contours,_ = cv2.findContours(mask,cv2.RETR_TREE,cv2.CHAIN_APPROX_SIMPLE)\n",
    "#     for cnt in contours:\n",
    "#         area = cv2.contourArea(cnt)\n",
    "#         approx = cv2.approxPolyDP(cnt,0.01*cv2.arcLength(cnt,True),True)\n",
    "#         if area>400:\n",
    "#             cv2.drawContours(img,[approx],0,(0,0,0),5)\n",
    "#             if len(approx) == 4:\n",
    "#                 #print(approx)\n",
    "#                 cv2.putText(img,\"Rectangle\",(approx[0][0][0],approx[0][0][1]),font,1,(0,0,0))\n",
    "    cv2.imshow(\"img\",img)\n",
    "    cv2.imshow(\"mask\",hsv)\n",
    "    key = cv2.waitKey(10)\n",
    "    if key == 27:\n",
    "        break\n",
    "cap.release()\n",
    "cv2.destroyAllWindows()"
   ]
  },
  {
   "cell_type": "code",
   "execution_count": 2,
   "metadata": {},
   "outputs": [
    {
     "ename": "NameError",
     "evalue": "name 'approx' is not defined",
     "output_type": "error",
     "traceback": [
      "\u001b[0;31m---------------------------------------------------------------------------\u001b[0m",
      "\u001b[0;31mNameError\u001b[0m                                 Traceback (most recent call last)",
      "\u001b[0;32m<ipython-input-2-53cfe01dc3a7>\u001b[0m in \u001b[0;36m<module>\u001b[0;34m\u001b[0m\n\u001b[0;32m----> 1\u001b[0;31m \u001b[0mapprox\u001b[0m\u001b[0;34m\u001b[0m\u001b[0;34m\u001b[0m\u001b[0m\n\u001b[0m",
      "\u001b[0;31mNameError\u001b[0m: name 'approx' is not defined"
     ]
    }
   ],
   "source": []
  },
  {
   "cell_type": "code",
   "execution_count": 10,
   "metadata": {},
   "outputs": [
    {
     "name": "stdout",
     "output_type": "stream",
     "text": [
      "[[559  64]]\n",
      "[[256 100]]\n",
      "[[278 273]]\n",
      "[[573 238]]\n"
     ]
    }
   ],
   "source": [
    "print(approx[0])\n",
    "print(approx[1])\n",
    "print(approx[2])\n",
    "print(approx[3])"
   ]
  },
  {
   "cell_type": "code",
   "execution_count": 7,
   "metadata": {},
   "outputs": [
    {
     "data": {
      "text/plain": [
       "511"
      ]
     },
     "execution_count": 7,
     "metadata": {},
     "output_type": "execute_result"
    }
   ],
   "source": [
    "approx[0][0][0]"
   ]
  },
  {
   "cell_type": "code",
   "execution_count": null,
   "metadata": {},
   "outputs": [],
   "source": []
  }
 ],
 "metadata": {
  "kernelspec": {
   "display_name": "Python 3",
   "language": "python",
   "name": "python3"
  },
  "language_info": {
   "codemirror_mode": {
    "name": "ipython",
    "version": 3
   },
   "file_extension": ".py",
   "mimetype": "text/x-python",
   "name": "python",
   "nbconvert_exporter": "python",
   "pygments_lexer": "ipython3",
   "version": "3.7.3"
  }
 },
 "nbformat": 4,
 "nbformat_minor": 2
}
